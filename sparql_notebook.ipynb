{
 "cells": [
  {
   "cell_type": "code",
   "execution_count": 1,
   "metadata": {},
   "outputs": [],
   "source": [
    "import rdflib"
   ]
  },
  {
   "cell_type": "code",
   "execution_count": 2,
   "metadata": {},
   "outputs": [],
   "source": [
    "g = rdflib.Graph()\n",
    "g.load('semsys_rdf.rdf', format='xml')"
   ]
  },
  {
   "cell_type": "code",
   "execution_count": 4,
   "metadata": {},
   "outputs": [
    {
     "name": "stdout",
     "output_type": "stream",
     "text": [
      "Restaurant name: AROI THAI Restaurant \n",
      "Rating: 4.5\n",
      "Rank: 215.0\n",
      "====================\n",
      "Restaurant name: Aera \n",
      "Rating: 4.5\n",
      "Rank: 453.0\n",
      "====================\n",
      "Restaurant name: Akasaka Sushi Bar \n",
      "Rating: 4.5\n",
      "Rank: 1304.0\n",
      "====================\n",
      "Restaurant name: Al Borgo \n",
      "Rating: 4.5\n",
      "Rank: 12.0\n",
      "====================\n",
      "Restaurant name: Alfredo Ristorante Trattoria \n",
      "Rating: 4.5\n",
      "Rank: 461.0\n",
      "====================\n",
      "Restaurant name: Alla Salute Pizzeria \n",
      "Rating: 4.5\n",
      "Rank: 719.0\n",
      "====================\n",
      "Restaurant name: Annam Restaurant \n",
      "Rating: 4.5\n",
      "Rank: 1116.0\n",
      "====================\n",
      "Restaurant name: Arcobaleno- Trattoria di Massimo \n",
      "Rating: 4.5\n",
      "Rank: 1679.0\n",
      "====================\n",
      "Restaurant name: Asia Restaurant Ju Xin Yuan \n",
      "Rating: 5.0\n",
      "Rank: 1864.0\n",
      "====================\n",
      "Restaurant name: Asia Restaurant Yang \n",
      "Rating: 5.0\n",
      "Rank: 1788.0\n",
      "====================\n"
     ]
    }
   ],
   "source": [
    "\"\"\"\n",
    "Return every restaurant which are located in Vienna with a Rating above 4.0 and italian or asian cuisine ordered by their name:\n",
    "\"\"\"\n",
    "for row in g.query(\n",
    "            \"\"\"\n",
    "            select ?name ?rat ?rank where {?s poi:isLocatedIn 'Vienna' .\n",
    "                             ?s poi:hasName ?name .\n",
    "                             ?s poi:hasRating ?rat .\n",
    "                             ?s poi:hasCuisine ?cuisine .\n",
    "                             ?s poi:hasRank ?rank\n",
    "                             FILTER(?rat > '4.0')\n",
    "                             FILTER(?cuisine in ('italian', 'asian'))\n",
    "                             }\n",
    "                             ORDER BY ?name\n",
    "                             LIMIT 10\n",
    "                             \"\"\"):\n",
    "        print(f\"Restaurant name: {row[0]} \\nRating: {row[1]}\\nRank: {row[2]}\")\n",
    "        print(\"=\"*20)"
   ]
  },
  {
   "cell_type": "code",
   "execution_count": 5,
   "metadata": {},
   "outputs": [
    {
     "name": "stdout",
     "output_type": "stream",
     "text": [
      "Restaurant name: 100gr Coffee & Pizza \n",
      "Location: Rome\n",
      "====================\n",
      "Restaurant name: 1n1 Fashion n Pizza \n",
      "Location: London\n",
      "====================\n",
      "Restaurant name: Al Paradiso della Pizza \n",
      "Location: Milan\n",
      "====================\n",
      "Restaurant name: Alice Pizza \n",
      "Location: Rome\n",
      "====================\n",
      "Restaurant name: Alice Pizza - Via Flavia 91 \n",
      "Location: Rome\n",
      "====================\n",
      "Restaurant name: Alice Pizza - Via Marche 21 \n",
      "Location: Rome\n",
      "====================\n",
      "Restaurant name: Alice Pizza Tintoretto \n",
      "Location: Rome\n",
      "====================\n",
      "Restaurant name: Amo Pizza \n",
      "Location: Milan\n",
      "====================\n",
      "Restaurant name: Andy Capp Pizza \n",
      "Location: Rome\n",
      "====================\n",
      "Restaurant name: Arcobaleno Pizza E Kebab \n",
      "Location: Rome\n",
      "====================\n"
     ]
    }
   ],
   "source": [
    "\"\"\"\n",
    "Return every restaurant which contain pizza in their name and have a rating above 4.0:\n",
    "\"\"\"\n",
    "for row in g.query(\n",
    "            \"\"\"\n",
    "            select distinct ?name ?location where {?s poi:isLocatedIn ?location .\n",
    "                             ?s poi:hasName ?name .\n",
    "                             ?s poi:hasRating ?rat .\n",
    "                             ?s poi:hasCuisine ?cuisine .\n",
    "                             FILTER(?rat > '4.0')\n",
    "                             FILTER(?cuisine in ('italian', 'asian'))\n",
    "                             filter contains(?name,\"Pizza\")\n",
    "                             }\n",
    "                             ORDER BY ?name\n",
    "                             LIMIT 10\n",
    "                             \"\"\"):\n",
    "        print(f\"Restaurant name: {row[0]} \\nLocation: {row[1]}\")\n",
    "        print(\"=\"*20)"
   ]
  },
  {
   "cell_type": "code",
   "execution_count": 25,
   "metadata": {},
   "outputs": [
    {
     "name": "stdout",
     "output_type": "stream",
     "text": [
      "Restaurant name: Aquavit \n",
      "Location: London\n",
      "Cuisines: vegan options, european, scandinavian, norwegian, contemporary, vegetarian friendly, swedish\n",
      "====================\n",
      "Restaurant name: Afternoon Tea at One Aldwych \n",
      "Location: London\n",
      "Cuisines: vegetarian friendly, gluten free options, british, vegan options\n",
      "====================\n",
      "Restaurant name: The Greenhouse \n",
      "Location: London\n",
      "Cuisines: vegetarian friendly, vegan options, french\n",
      "====================\n",
      "Restaurant name: Raka Fine Indian Cuisine \n",
      "Location: London\n",
      "Cuisines: asian, indian, vegan options, balti, bangladeshi, vegetarian friendly\n",
      "====================\n",
      "Restaurant name: Mora Restaurant \n",
      "Location: London\n",
      "Cuisines: european, vegan options, gluten free options, italian, mediterranean, vegetarian friendly\n",
      "====================\n",
      "Restaurant name: Sticks'N'Sushi Covent Garden \n",
      "Location: London\n",
      "Cuisines: japanese, vegetarian friendly, gluten free options, vegan options, sushi, asian\n",
      "====================\n",
      "Restaurant name: Romulo Cafe \n",
      "Location: London\n",
      "Cuisines: asian, gluten free options, vegetarian friendly, vegan options, fusion, filipino\n",
      "====================\n",
      "Restaurant name: The Providores \n",
      "Location: London\n",
      "Cuisines: fusion, vegetarian friendly, international, european, gluten free options, vegan options\n",
      "====================\n",
      "Restaurant name: Chai Naasto Hammersmith \n",
      "Location: London\n",
      "Cuisines: street food, vegetarian friendly, indian, vegan options, asian, gluten free options\n",
      "====================\n",
      "Restaurant name: La Saporita \n",
      "Location: London\n",
      "Cuisines: vegan options, vegetarian friendly, pizza, mediterranean, italian\n",
      "====================\n"
     ]
    }
   ],
   "source": [
    "\"\"\"\n",
    "Return every restaurant and their listed cuisines respectively which are located in London and offer vegan food:\n",
    "\"\"\"\n",
    "for row in g.query(\n",
    "            \"\"\"\n",
    "    select ?name ?location (group_concat(?cuisine; separator=\", \") as ?cuisines) where {\n",
    "      ?s poi:hasName ?name;\n",
    "             poi:isLocatedIn 'London';\n",
    "             poi:hasCuisine ?cuisine;\n",
    "             BIND('London' as ?location)\n",
    "             {\n",
    "                 select ?name where {?s poi:hasCuisine ?veg FILTER contains(?veg, 'vegan')}\n",
    "             \n",
    "             }\n",
    "    }\n",
    "    group by ?name ?location ?cuisines\n",
    "    LIMIT 10\n",
    "                   \"\"\"):\n",
    "        print(f\"Restaurant name: {row[0]} \\nLocation: {row[1]}\\nCuisines: {row[2]}\")\n",
    "        print(\"=\"*20)"
   ]
  },
  {
   "cell_type": "code",
   "execution_count": null,
   "metadata": {},
   "outputs": [],
   "source": []
  }
 ],
 "metadata": {
  "kernelspec": {
   "display_name": "Python 3",
   "language": "python",
   "name": "python3"
  },
  "language_info": {
   "codemirror_mode": {
    "name": "ipython",
    "version": 3
   },
   "file_extension": ".py",
   "mimetype": "text/x-python",
   "name": "python",
   "nbconvert_exporter": "python",
   "pygments_lexer": "ipython3",
   "version": "3.7.3"
  }
 },
 "nbformat": 4,
 "nbformat_minor": 4
}
